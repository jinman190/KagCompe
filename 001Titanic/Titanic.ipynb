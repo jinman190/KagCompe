{
 "cells": [
  {
   "cell_type": "code",
   "execution_count": 1,
   "metadata": {
    "collapsed": true
   },
   "outputs": [],
   "source": [
    "import pandas as pd\n",
    "import numpy as np\n",
    "import seaborn as sns\n",
    "import matplotlib.pyplot as plt\n",
    "from matplotlib import rcParams\n",
    "import re\n",
    "\n",
    "%matplotlib inline\n",
    "\n",
    "# figure size in inches\n",
    "rcParams['figure.figsize'] = 10,8"
   ]
  },
  {
   "cell_type": "code",
   "execution_count": 2,
   "metadata": {},
   "outputs": [
    {
     "name": "stdout",
     "output_type": "stream",
     "text": [
      "<class 'pandas.core.frame.DataFrame'>\n",
      "RangeIndex: 891 entries, 0 to 890\n",
      "Data columns (total 12 columns):\n",
      "PassengerId    891 non-null int64\n",
      "Survived       891 non-null int64\n",
      "Pclass         891 non-null int64\n",
      "Name           891 non-null object\n",
      "Sex            891 non-null object\n",
      "Age            714 non-null float64\n",
      "SibSp          891 non-null int64\n",
      "Parch          891 non-null int64\n",
      "Ticket         891 non-null object\n",
      "Fare           891 non-null float64\n",
      "Cabin          204 non-null object\n",
      "Embarked       889 non-null object\n",
      "dtypes: float64(2), int64(5), object(5)\n",
      "memory usage: 83.6+ KB\n",
      "None\n",
      "<class 'pandas.core.frame.DataFrame'>\n",
      "RangeIndex: 418 entries, 0 to 417\n",
      "Data columns (total 11 columns):\n",
      "PassengerId    418 non-null int64\n",
      "Pclass         418 non-null int64\n",
      "Name           418 non-null object\n",
      "Sex            418 non-null object\n",
      "Age            332 non-null float64\n",
      "SibSp          418 non-null int64\n",
      "Parch          418 non-null int64\n",
      "Ticket         418 non-null object\n",
      "Fare           417 non-null float64\n",
      "Cabin          91 non-null object\n",
      "Embarked       418 non-null object\n",
      "dtypes: float64(2), int64(4), object(5)\n",
      "memory usage: 36.0+ KB\n",
      "None\n"
     ]
    }
   ],
   "source": [
    "df_train = pd.read_csv(\"input/train.csv\")\n",
    "df_test = pd.read_csv(\"input/test.csv\")\n",
    "\n",
    "#Looking data format and types\n",
    "print(df_train.info())\n",
    "print(df_test.info())"
   ]
  },
  {
   "cell_type": "code",
   "execution_count": 3,
   "metadata": {},
   "outputs": [
    {
     "name": "stdout",
     "output_type": "stream",
     "text": [
      "   PassengerId  Survived  Pclass  \\\n",
      "0            1         0       3   \n",
      "1            2         1       1   \n",
      "2            3         1       3   \n",
      "3            4         1       1   \n",
      "4            5         0       3   \n",
      "\n",
      "                                                Name     Sex   Age  SibSp  \\\n",
      "0                            Braund, Mr. Owen Harris    male  22.0      1   \n",
      "1  Cumings, Mrs. John Bradley (Florence Briggs Th...  female  38.0      1   \n",
      "2                             Heikkinen, Miss. Laina  female  26.0      0   \n",
      "3       Futrelle, Mrs. Jacques Heath (Lily May Peel)  female  35.0      1   \n",
      "4                           Allen, Mr. William Henry    male  35.0      0   \n",
      "\n",
      "   Parch            Ticket     Fare Cabin Embarked  \n",
      "0      0         A/5 21171   7.2500   NaN        S  \n",
      "1      0          PC 17599  71.2833   C85        C  \n",
      "2      0  STON/O2. 3101282   7.9250   NaN        S  \n",
      "3      0            113803  53.1000  C123        S  \n",
      "4      0            373450   8.0500   NaN        S  \n"
     ]
    }
   ],
   "source": [
    "print(df_train.head())"
   ]
  },
  {
   "cell_type": "code",
   "execution_count": 4,
   "metadata": {},
   "outputs": [
    {
     "data": {
      "text/html": [
       "<div>\n",
       "<style>\n",
       "    .dataframe thead tr:only-child th {\n",
       "        text-align: right;\n",
       "    }\n",
       "\n",
       "    .dataframe thead th {\n",
       "        text-align: left;\n",
       "    }\n",
       "\n",
       "    .dataframe tbody tr th {\n",
       "        vertical-align: top;\n",
       "    }\n",
       "</style>\n",
       "<table border=\"1\" class=\"dataframe\">\n",
       "  <thead>\n",
       "    <tr style=\"text-align: right;\">\n",
       "      <th></th>\n",
       "      <th>PassengerId</th>\n",
       "      <th>Survived</th>\n",
       "      <th>Pclass</th>\n",
       "      <th>Age</th>\n",
       "      <th>SibSp</th>\n",
       "      <th>Parch</th>\n",
       "      <th>Fare</th>\n",
       "    </tr>\n",
       "  </thead>\n",
       "  <tbody>\n",
       "    <tr>\n",
       "      <th>count</th>\n",
       "      <td>891.000000</td>\n",
       "      <td>891.000000</td>\n",
       "      <td>891.000000</td>\n",
       "      <td>714.000000</td>\n",
       "      <td>891.000000</td>\n",
       "      <td>891.000000</td>\n",
       "      <td>891.000000</td>\n",
       "    </tr>\n",
       "    <tr>\n",
       "      <th>mean</th>\n",
       "      <td>446.000000</td>\n",
       "      <td>0.383838</td>\n",
       "      <td>2.308642</td>\n",
       "      <td>29.699118</td>\n",
       "      <td>0.523008</td>\n",
       "      <td>0.381594</td>\n",
       "      <td>32.204208</td>\n",
       "    </tr>\n",
       "    <tr>\n",
       "      <th>std</th>\n",
       "      <td>257.353842</td>\n",
       "      <td>0.486592</td>\n",
       "      <td>0.836071</td>\n",
       "      <td>14.526497</td>\n",
       "      <td>1.102743</td>\n",
       "      <td>0.806057</td>\n",
       "      <td>49.693429</td>\n",
       "    </tr>\n",
       "    <tr>\n",
       "      <th>min</th>\n",
       "      <td>1.000000</td>\n",
       "      <td>0.000000</td>\n",
       "      <td>1.000000</td>\n",
       "      <td>0.420000</td>\n",
       "      <td>0.000000</td>\n",
       "      <td>0.000000</td>\n",
       "      <td>0.000000</td>\n",
       "    </tr>\n",
       "    <tr>\n",
       "      <th>25%</th>\n",
       "      <td>223.500000</td>\n",
       "      <td>0.000000</td>\n",
       "      <td>2.000000</td>\n",
       "      <td>20.125000</td>\n",
       "      <td>0.000000</td>\n",
       "      <td>0.000000</td>\n",
       "      <td>7.910400</td>\n",
       "    </tr>\n",
       "    <tr>\n",
       "      <th>50%</th>\n",
       "      <td>446.000000</td>\n",
       "      <td>0.000000</td>\n",
       "      <td>3.000000</td>\n",
       "      <td>28.000000</td>\n",
       "      <td>0.000000</td>\n",
       "      <td>0.000000</td>\n",
       "      <td>14.454200</td>\n",
       "    </tr>\n",
       "    <tr>\n",
       "      <th>75%</th>\n",
       "      <td>668.500000</td>\n",
       "      <td>1.000000</td>\n",
       "      <td>3.000000</td>\n",
       "      <td>38.000000</td>\n",
       "      <td>1.000000</td>\n",
       "      <td>0.000000</td>\n",
       "      <td>31.000000</td>\n",
       "    </tr>\n",
       "    <tr>\n",
       "      <th>max</th>\n",
       "      <td>891.000000</td>\n",
       "      <td>1.000000</td>\n",
       "      <td>3.000000</td>\n",
       "      <td>80.000000</td>\n",
       "      <td>8.000000</td>\n",
       "      <td>6.000000</td>\n",
       "      <td>512.329200</td>\n",
       "    </tr>\n",
       "  </tbody>\n",
       "</table>\n",
       "</div>"
      ],
      "text/plain": [
       "       PassengerId    Survived      Pclass         Age       SibSp  \\\n",
       "count   891.000000  891.000000  891.000000  714.000000  891.000000   \n",
       "mean    446.000000    0.383838    2.308642   29.699118    0.523008   \n",
       "std     257.353842    0.486592    0.836071   14.526497    1.102743   \n",
       "min       1.000000    0.000000    1.000000    0.420000    0.000000   \n",
       "25%     223.500000    0.000000    2.000000   20.125000    0.000000   \n",
       "50%     446.000000    0.000000    3.000000   28.000000    0.000000   \n",
       "75%     668.500000    1.000000    3.000000   38.000000    1.000000   \n",
       "max     891.000000    1.000000    3.000000   80.000000    8.000000   \n",
       "\n",
       "            Parch        Fare  \n",
       "count  891.000000  891.000000  \n",
       "mean     0.381594   32.204208  \n",
       "std      0.806057   49.693429  \n",
       "min      0.000000    0.000000  \n",
       "25%      0.000000    7.910400  \n",
       "50%      0.000000   14.454200  \n",
       "75%      0.000000   31.000000  \n",
       "max      6.000000  512.329200  "
      ]
     },
     "execution_count": 4,
     "metadata": {},
     "output_type": "execute_result"
    }
   ],
   "source": [
    "df_train.describe()"
   ]
  },
  {
   "cell_type": "code",
   "execution_count": 5,
   "metadata": {},
   "outputs": [
    {
     "data": {
      "text/plain": [
       "0                              Braund, Mr. Owen Harris\n",
       "1    Cumings, Mrs. John Bradley (Florence Briggs Th...\n",
       "2                               Heikkinen, Miss. Laina\n",
       "3         Futrelle, Mrs. Jacques Heath (Lily May Peel)\n",
       "4                             Allen, Mr. William Henry\n",
       "Name: Name, dtype: object"
      ]
     },
     "execution_count": 5,
     "metadata": {},
     "output_type": "execute_result"
    }
   ],
   "source": [
    "df_train[\"Name\"].head()"
   ]
  },
  {
   "cell_type": "code",
   "execution_count": 6,
   "metadata": {},
   "outputs": [
    {
     "data": {
      "image/png": "[encoded data removed]",
      "text/plain": [
       "<matplotlib.figure.Figure at 0x22040ab2668>"
      ]
     },
     "metadata": {},
     "output_type": "display_data"
    }
   ],
   "source": [
    "df_train['Title'] = df_train.Name.apply(lambda x: re.search(' ([A-Z][a-z]+)\\.', x).group(1))\n",
    "\n",
    "#Plotting the result\n",
    "sns.countplot(x='Title', data=df_train, palette=\"hls\")\n",
    "plt.xticks(rotation=45)\n",
    "plt.show()"
   ]
  },
  {
   "cell_type": "code",
   "execution_count": 7,
   "metadata": {
    "collapsed": true
   },
   "outputs": [],
   "source": [
    "df_test['Title'] = df_test.Name.apply(lambda x: re.search(' ([A-Z][a-z]+)\\.', x).group(1))"
   ]
  },
  {
   "cell_type": "code",
   "execution_count": 8,
   "metadata": {
    "collapsed": true
   },
   "outputs": [],
   "source": [
    "Title_Dictionary = {\n",
    "        \"Capt\":       \"Officer\",\n",
    "        \"Col\":        \"Officer\",\n",
    "        \"Major\":      \"Officer\",\n",
    "        \"Dr\":         \"Officer\",\n",
    "        \"Rev\":        \"Officer\",\n",
    "        \"Jonkheer\":   \"Royalty\",\n",
    "        \"Don\":        \"Royalty\",\n",
    "        \"Sir\" :       \"Royalty\",\n",
    "        \"the Countess\":\"Royalty\",\n",
    "        \"Dona\":       \"Royalty\",\n",
    "        \"Lady\" :      \"Royalty\",\n",
    "        \"Mme\":        \"Mrs\",\n",
    "        \"Ms\":         \"Mrs\",\n",
    "        \"Mrs\" :       \"Mrs\",\n",
    "        \"Mlle\":       \"Miss\",\n",
    "        \"Miss\" :      \"Miss\",\n",
    "        \"Mr\" :        \"Mr\",\n",
    "        \"Master\" :    \"Master\"\n",
    "                   }\n",
    "    \n",
    "# we map each title to correct category\n",
    "df_train['Title'] = df_train.Title.map(Title_Dictionary)\n",
    "df_test['Title'] = df_test.Title.map(Title_Dictionary)"
   ]
  },
  {
   "cell_type": "code",
   "execution_count": 9,
   "metadata": {},
   "outputs": [
    {
     "data": {
      "image/png": "[encoded data removed]",
      "text/plain": [
       "<matplotlib.figure.Figure at 0x22043e4cb38>"
      ]
     },
     "metadata": {},
     "output_type": "display_data"
    }
   ],
   "source": [
    "sns.countplot(x='Title', data=df_train, palette=\"hls\",hue=\"Survived\")\n",
    "plt.xticks(rotation=45)\n",
    "plt.show()"
   ]
  },
  {
   "cell_type": "code",
   "execution_count": 10,
   "metadata": {},
   "outputs": [
    {
     "data": {
      "text/plain": [
       "<matplotlib.axes._subplots.AxesSubplot at 0x22043e4cef0>"
      ]
     },
     "execution_count": 10,
     "metadata": {},
     "output_type": "execute_result"
    },
    {
     "data": {
      "image/png": "[encoded data removed]",
      "text/plain": [
       "<matplotlib.figure.Figure at 0x22043cb3198>"
      ]
     },
     "metadata": {},
     "output_type": "display_data"
    }
   ],
   "source": [
    "sns.countplot(x='Pclass', data=df_train, palette=\"hls\",hue=\"Survived\")"
   ]
  },
  {
   "cell_type": "code",
   "execution_count": 11,
   "metadata": {},
   "outputs": [
    {
     "data": {
      "text/plain": [
       "<matplotlib.axes._subplots.AxesSubplot at 0x22043de64e0>"
      ]
     },
     "execution_count": 11,
     "metadata": {},
     "output_type": "execute_result"
    },
    {
     "data": {
      "image/png": "[encoded data removed]",
      "text/plain": [
       "<matplotlib.figure.Figure at 0x22043dc8860>"
      ]
     },
     "metadata": {},
     "output_type": "display_data"
    }
   ],
   "source": [
    "sns.countplot(x='Embarked', data=df_train, palette=\"hls\",hue=\"Survived\") #출항지"
   ]
  },
  {
   "cell_type": "code",
   "execution_count": 12,
   "metadata": {},
   "outputs": [
    {
     "data": {
      "text/plain": [
       "<matplotlib.axes._subplots.AxesSubplot at 0x22043f92dd8>"
      ]
     },
     "execution_count": 12,
     "metadata": {},
     "output_type": "execute_result"
    },
    {
     "data": {
      "image/png": "[encoded data removed]",
      "text/plain": [
       "<matplotlib.figure.Figure at 0x2204400ca90>"
      ]
     },
     "metadata": {},
     "output_type": "display_data"
    }
   ],
   "source": [
    "age_high_zero = df_train[df_train[\"Age\"] > 0]\n",
    "\n",
    "sns.distplot(age_high_zero[\"Age\"], bins=24)"
   ]
  },
  {
   "cell_type": "code",
   "execution_count": 13,
   "metadata": {},
   "outputs": [
    {
     "name": "stdout",
     "output_type": "stream",
     "text": [
      "Sex     Pclass  Title  \n",
      "female  1       Miss       30.0\n",
      "                Mrs        40.0\n",
      "                Officer    49.0\n",
      "                Royalty    48.0\n",
      "        2       Miss       24.0\n",
      "                Mrs        31.5\n",
      "        3       Miss       18.0\n",
      "                Mrs        31.0\n",
      "male    1       Master      4.0\n",
      "                Mr         40.0\n",
      "                Officer    51.0\n",
      "                Royalty    40.0\n",
      "        2       Master      1.0\n",
      "                Mr         31.0\n",
      "                Officer    46.5\n",
      "        3       Master      4.0\n",
      "                Mr         26.0\n",
      "Name: Age, dtype: float64\n"
     ]
    }
   ],
   "source": [
    "age_group = df_train.groupby([\"Sex\",\"Pclass\",\"Title\"])[\"Age\"]\n",
    "\n",
    "print(age_group.median())"
   ]
  },
  {
   "cell_type": "code",
   "execution_count": 75,
   "metadata": {},
   "outputs": [
    {
     "name": "stdout",
     "output_type": "stream",
     "text": [
      "0\n"
     ]
    }
   ],
   "source": [
    "df_train.loc[df_train.Age.isnull(), 'Age'] = df_train.groupby(['Sex','Pclass','Title']).Age.transform('median')\n",
    "df_test.loc[df_test.Age.isnull(), 'Age'] = df_train.groupby(['Sex','Pclass','Title']).Age.transform('median')\n",
    "print(df_train[\"Age\"].isnull().sum())"
   ]
  },
  {
   "cell_type": "code",
   "execution_count": 76,
   "metadata": {
    "collapsed": true
   },
   "outputs": [],
   "source": [
    "Sex_Dictionary = {\n",
    "        \"male\":     0,\n",
    "        \"female\":    1\n",
    "}\n",
    "    \n",
    "# we map each title to correct category\n",
    "df_train['SexNum'] = df_train.Sex.map(Sex_Dictionary)\n",
    "df_test['SexNum'] = df_test.Sex.map(Sex_Dictionary)\n",
    "\n",
    "Embarked1_Dictionary = {\n",
    "        \"S\":     1,\n",
    "        \"C\":     0,\n",
    "        \"Q\":     0\n",
    "}\n",
    "Embarked2_Dictionary = {\n",
    "        \"S\":     0,\n",
    "        \"C\":     1,\n",
    "        \"Q\":     0\n",
    "}\n",
    "Embarked3_Dictionary = {\n",
    "        \"S\":     0,\n",
    "        \"C\":     0,\n",
    "        \"Q\":    1\n",
    "}\n",
    "    \n",
    "# we map each title to correct category\n",
    "df_train['Embarked1Num'] = df_train.Embarked.map(Embarked1_Dictionary)\n",
    "df_test['Embarked1Num'] = df_test.Embarked.map(Embarked1_Dictionary)\n",
    "df_train['Embarked2Num'] = df_train.Embarked.map(Embarked2_Dictionary)\n",
    "df_test['Embarked2Num'] = df_test.Embarked.map(Embarked2_Dictionary)\n",
    "df_train['Embarked3Num'] = df_train.Embarked.map(Embarked3_Dictionary)\n",
    "df_test['Embarked3Num'] = df_test.Embarked.map(Embarked3_Dictionary)"
   ]
  },
  {
   "cell_type": "code",
   "execution_count": 78,
   "metadata": {},
   "outputs": [
    {
     "name": "stdout",
     "output_type": "stream",
     "text": [
      "[  1.       1.      38.       1.       0.      71.2833]\n"
     ]
    }
   ],
   "source": [
    "import tensorflow as tf\n",
    "\n",
    "x_data = df_train[[\"Pclass\", \"SexNum\", \"Age\", \"SibSp\", \"Parch\", \"Fare\"]].as_matrix()#, \"Embarked1Num\", \"Embarked2Num\", \"Embarked3Num\"]].as_matrix()\n",
    "y_data = df_train[\"Survived\"].as_matrix()\n",
    "y_data = y_data.reshape(-1, 1)\n",
    "\n",
    "x_datatest = df_test[[\"Pclass\", \"SexNum\", \"Age\", \"SibSp\", \"Parch\", \"Fare\"]].as_matrix()#, \"Embarked1Num\", \"Embarked2Num\", \"Embarked3Num\"]].as_matrix()\n",
    "\n",
    "#x_data = [[1,2],[2,3],[3,1], [4,3], [5,3], [6,2]]\n",
    "#y_data = [[0], [0], [0], [1], [1], [1]]#fail 0 pass 1\n",
    "print(x_data[1])\n",
    "#print(y_data)\n"
   ]
  },
  {
   "cell_type": "code",
   "execution_count": 94,
   "metadata": {},
   "outputs": [
    {
     "name": "stdout",
     "output_type": "stream",
     "text": [
      "       0\n",
      "0    0.0\n",
      "1    0.0\n",
      "2    0.0\n",
      "3    0.0\n",
      "4    0.0\n",
      "5    0.0\n",
      "6    0.0\n",
      "7    0.0\n",
      "8    0.0\n",
      "9    0.0\n",
      "10   0.0\n",
      "11   0.0\n",
      "12   0.0\n",
      "13   0.0\n",
      "14   0.0\n",
      "15   0.0\n",
      "16   0.0\n",
      "17   0.0\n",
      "18   0.0\n",
      "19   0.0\n",
      "20   0.0\n",
      "21   0.0\n",
      "22   0.0\n",
      "23   0.0\n",
      "24   1.0\n",
      "25   0.0\n",
      "26   0.0\n",
      "27   0.0\n",
      "28   0.0\n",
      "29   0.0\n",
      "..   ...\n",
      "388  0.0\n",
      "389  0.0\n",
      "390  0.0\n",
      "391  0.0\n",
      "392  1.0\n",
      "393  0.0\n",
      "394  0.0\n",
      "395  0.0\n",
      "396  0.0\n",
      "397  0.0\n",
      "398  0.0\n",
      "399  0.0\n",
      "400  1.0\n",
      "401  0.0\n",
      "402  0.0\n",
      "403  0.0\n",
      "404  0.0\n",
      "405  0.0\n",
      "406  0.0\n",
      "407  1.0\n",
      "408  0.0\n",
      "409  0.0\n",
      "410  0.0\n",
      "411  0.0\n",
      "412  0.0\n",
      "413  0.0\n",
      "414  0.0\n",
      "415  0.0\n",
      "416  0.0\n",
      "417  0.0\n",
      "\n",
      "[418 rows x 1 columns]\n",
      "     PassengerId  Survived\n",
      "0            892       0.0\n",
      "1            893       0.0\n",
      "2            894       0.0\n",
      "3            895       0.0\n",
      "4            896       0.0\n",
      "5            897       0.0\n",
      "6            898       0.0\n",
      "7            899       0.0\n",
      "8            900       0.0\n",
      "9            901       0.0\n",
      "10           902       0.0\n",
      "11           903       0.0\n",
      "12           904       0.0\n",
      "13           905       0.0\n",
      "14           906       0.0\n",
      "15           907       0.0\n",
      "16           908       0.0\n",
      "17           909       0.0\n",
      "18           910       0.0\n",
      "19           911       0.0\n",
      "20           912       0.0\n",
      "21           913       0.0\n",
      "22           914       0.0\n",
      "23           915       0.0\n",
      "24           916       1.0\n",
      "25           917       0.0\n",
      "26           918       0.0\n",
      "27           919       0.0\n",
      "28           920       0.0\n",
      "29           921       0.0\n",
      "..           ...       ...\n",
      "388         1280       0.0\n",
      "389         1281       0.0\n",
      "390         1282       0.0\n",
      "391         1283       0.0\n",
      "392         1284       1.0\n",
      "393         1285       0.0\n",
      "394         1286       0.0\n",
      "395         1287       0.0\n",
      "396         1288       0.0\n",
      "397         1289       0.0\n",
      "398         1290       0.0\n",
      "399         1291       0.0\n",
      "400         1292       1.0\n",
      "401         1293       0.0\n",
      "402         1294       0.0\n",
      "403         1295       0.0\n",
      "404         1296       0.0\n",
      "405         1297       0.0\n",
      "406         1298       0.0\n",
      "407         1299       1.0\n",
      "408         1300       0.0\n",
      "409         1301       0.0\n",
      "410         1302       0.0\n",
      "411         1303       0.0\n",
      "412         1304       0.0\n",
      "413         1305       0.0\n",
      "414         1306       0.0\n",
      "415         1307       0.0\n",
      "416         1308       0.0\n",
      "417         1309       0.0\n",
      "\n",
      "[418 rows x 2 columns]\n"
     ]
    }
   ],
   "source": [
    "\n",
    "column_X = 6\n",
    "nb_classes = 1 #답의 가짓수\n",
    "\n",
    "X = tf.placeholder(tf.float64, [None,column_X], name=\"X\")\n",
    "Y = tf.placeholder(tf.float64, [None,1], name=\"Y\")\n",
    "\n",
    "\n",
    "W = tf.Variable(tf.random_normal([column_X, nb_classes], name='weight', dtype=tf.float64), dtype=tf.float64)\n",
    "b = tf.Variable(tf.random_normal([nb_classes], name='bias', dtype=tf.float64), dtype=tf.float64)\n",
    "\n",
    "#hypothesis = tf.sigmoid(tf.matmul(X, W) + b)\n",
    "#cost = -tf.reduce_mean(Y*tf.log(hypothesis) + (1-Y)*(tf.log(1-hypothesis)))\n",
    "#optimizer = tf.train.AdamOptimizer(learning_rate=0.01).minimize(cost)\n",
    "hypothesis = tf.matmul(X, W) + b\n",
    "cost = tf.reduce_mean(tf.square(hypothesis - Y))\n",
    "optimizer = tf.train.GradientDescentOptimizer(learning_rate=0.0001).minimize(cost)\n",
    "\n",
    "prediction = tf.cast(hypothesis > 0.5, dtype=tf.float64)\n",
    "is_correct = tf.equal(prediction, Y)\n",
    "accuracy = tf.reduce_mean(tf.cast(is_correct, tf.float64))\n",
    "\n",
    "sess = tf.Session()\n",
    "\n",
    "sess.run(tf.global_variables_initializer())\n",
    "\n",
    "for step in range(20000):\n",
    "    cost_val, _ = sess.run([cost, optimizer], feed_dict={X: x_data, Y: y_data})\n",
    "    #print(step, \"Cost: \", cost_val)\n",
    "    \n",
    "h, c = sess.run([hypothesis, prediction], feed_dict={X: x_datatest})\n",
    "\n",
    "output = pd.DataFrame(data=c)\n",
    "\n",
    "print(output)\n",
    "df_test[\"Survived\"] = output\n",
    "result = df_test[[\"PassengerId\", \"Survived\"]]\n",
    "print(result)\n",
    "result.to_csv(\"a.csv\", sep=',', index=False)"
   ]
  },
  {
   "cell_type": "code",
   "execution_count": null,
   "metadata": {
    "collapsed": true
   },
   "outputs": [],
   "source": []
  }
 ],
 "metadata": {
  "kernelspec": {
   "display_name": "Python 3",
   "language": "python",
   "name": "python3"
  },
  "language_info": {
   "codemirror_mode": {
    "name": "ipython",
    "version": 3
   },
   "file_extension": ".py",
   "mimetype": "text/x-python",
   "name": "python",
   "nbconvert_exporter": "python",
   "pygments_lexer": "ipython3",
   "version": "3.6.1"
  }
 },
 "nbformat": 4,
 "nbformat_minor": 2
}
